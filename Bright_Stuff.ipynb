{
 "cells": [
  {
   "cell_type": "markdown",
   "metadata": {},
   "source": [
    "# Bright Stuff\n",
    "### Health is our number 1 priority"
   ]
  },
  {
   "cell_type": "code",
   "execution_count": null,
   "metadata": {},
   "outputs": [],
   "source": [
    "import pandas as pd\n",
    "import numpy as np\n",
    "import base64\n",
    "import imageio as iio\n",
    "import plotly.graph_objects as go\n",
    "import matplotlib.pyplot as plt\n",
    "import os\n",
    "import bar_chart_race as bcr\n",
    "from IPython import display\n",
    "from matplotlib.animation import FuncAnimation\n",
    "from matplotlib.patches import Rectangle\n",
    "from plotting import Plotting\n",
    "import plotly.graph_objects as go\n"
   ]
  },
  {
   "cell_type": "code",
   "execution_count": null,
   "metadata": {},
   "outputs": [],
   "source": [
    "df = pd.read_pickle(f'site_2/site_2.pkl', compression='gzip') # We followed the helvar notebook closely"
   ]
  },
  {
   "cell_type": "code",
   "execution_count": null,
   "metadata": {},
   "outputs": [],
   "source": [
    "# converting timestamp to appropriate format\n",
    "df.loc[:, 'timestamp'] = (pd.to_datetime(df['timestamp'], utc=True)\n",
    "                                 .dt.tz_convert('Europe/Helsinki')\n",
    "                                 .dt.tz_localize(None))"
   ]
  },
  {
   "cell_type": "code",
   "execution_count": null,
   "metadata": {},
   "outputs": [],
   "source": [
    "with open(f'site_2/site_2.png', \"rb\") as image_file:\n",
    "    encoded_string = base64.b64encode(image_file.read()).decode()"
   ]
  },
  {
   "cell_type": "code",
   "execution_count": null,
   "metadata": {},
   "outputs": [],
   "source": [
    "img = iio.imread(f'site_2/site_2.png')\n",
    "img.shape"
   ]
  },
  {
   "cell_type": "code",
   "execution_count": null,
   "metadata": {},
   "outputs": [],
   "source": [
    "df_devices = pd.read_json(f'site_2/site_2.json')"
   ]
  },
  {
   "cell_type": "code",
   "execution_count": null,
   "metadata": {},
   "outputs": [],
   "source": [
    "# choosing an exact day, because in our project we focus on the more detailed description of the day\n",
    "df_events_day = df[df.timestamp.dt.date.astype(str) == \"2021-09-15\"].copy()"
   ]
  },
  {
   "cell_type": "code",
   "execution_count": null,
   "metadata": {},
   "outputs": [],
   "source": [
    "cols = set(df_events_day['deviceid'])\n",
    "df_devices = df_devices[df_devices['deviceid'].isin(cols)] # we want to know the individual devices"
   ]
  },
  {
   "cell_type": "code",
   "execution_count": null,
   "metadata": {},
   "outputs": [],
   "source": [
    "# keeping sensors only in invastigated range (between zones) because we are only interested in the zones that look like offices\n",
    "df_devices = df_devices[(df_devices['x'] > 333) & (df_devices['x'] < 4397)]\n",
    "df_devices = df_devices[(df_devices['y'] > 1237) & (df_devices['y'] < 2625)]\n",
    "\n",
    "df_devices['zone'] = 0"
   ]
  },
  {
   "cell_type": "code",
   "execution_count": null,
   "metadata": {},
   "outputs": [],
   "source": [
    "# definition of zones\n",
    "df_devices.loc[(df_devices['x'] > 333) & (df_devices['x'] < 1617), 'zone'] = 1\n",
    "df_devices.loc[(df_devices['x'] > 1617) & (df_devices['x'] < 2565), 'zone'] = 2\n",
    "df_devices.loc[(df_devices['x'] > 2565) & (df_devices['x'] < 3685), 'zone'] = 3\n",
    "df_devices.loc[(df_devices['x'] > 3685) & (df_devices['x'] < 4397), 'zone'] = 4"
   ]
  },
  {
   "cell_type": "code",
   "execution_count": null,
   "metadata": {},
   "outputs": [],
   "source": [
    "df_events_day = df_events_day[df_events_day['deviceid'].isin(df_devices['deviceid'])] #get those devices we need\n",
    "\n",
    "df_events_day['zone'] = 0"
   ]
  },
  {
   "cell_type": "code",
   "execution_count": null,
   "metadata": {},
   "outputs": [],
   "source": [
    "zone1 = list(df_devices.loc[(df_devices.zone == 1), 'deviceid'])\n",
    "zone2 = list(df_devices.loc[(df_devices.zone == 2), 'deviceid'])\n",
    "zone3 = list(df_devices.loc[(df_devices.zone == 3), 'deviceid'])\n",
    "zone4 = list(df_devices.loc[(df_devices.zone == 4), 'deviceid'])"
   ]
  },
  {
   "cell_type": "code",
   "execution_count": null,
   "metadata": {},
   "outputs": [],
   "source": [
    "df_events_day.loc[(df_events_day.deviceid.isin(zone1)), 'zone'] = 1\n",
    "df_events_day.loc[(df_events_day.deviceid.isin(zone2)), 'zone'] = 2\n",
    "df_events_day.loc[(df_events_day.deviceid.isin(zone3)), 'zone'] = 3\n",
    "df_events_day.loc[(df_events_day.deviceid.isin(zone4)), 'zone'] = 4"
   ]
  },
  {
   "cell_type": "code",
   "execution_count": null,
   "metadata": {},
   "outputs": [],
   "source": [
    "df_events_day.drop(columns=['deviceid'], inplace=True)"
   ]
  },
  {
   "cell_type": "code",
   "execution_count": null,
   "metadata": {},
   "outputs": [],
   "source": [
    "df_events_day[df_events_day['zone'] == 4] #we have all the data summed for zone 4 for example"
   ]
  },
  {
   "cell_type": "code",
   "execution_count": null,
   "metadata": {},
   "outputs": [],
   "source": [
    "df_events_day.timestamp = df_events_day.timestamp.dt.floor('10min')\n",
    "df_events_day.loc[:, 'b'] = 1\n",
    "df_events_day = df_events_day.groupby(['zone', 'timestamp']).sum()\n",
    "df_events_day = df_events_day.pivot_table(index='timestamp', columns='zone', values='b')\n",
    "df_events_day = df_events_day.reindex(pd.date_range(df_events_day.index.min().floor('1D'), df_events_day.index.max().ceil('1D'), freq='10min', closed='left')).fillna(0)"
   ]
  },
  {
   "cell_type": "code",
   "execution_count": null,
   "metadata": {},
   "outputs": [],
   "source": [
    "df_events_day.drop(columns=[4], inplace=True)"
   ]
  },
  {
   "cell_type": "code",
   "execution_count": null,
   "metadata": {},
   "outputs": [],
   "source": [
    "df_events_day # we needed to rotate the dataframe to have the rows as times"
   ]
  },
  {
   "cell_type": "code",
   "execution_count": null,
   "metadata": {},
   "outputs": [],
   "source": [
    "# for the pitch we only took an interesting part of the day into account, but of course this can be done for other periods\n",
    "df_shorter = df_events_day.loc[(df_events_day.index > '2021-09-15 05:20:00') & (df_events_day.index < '2021-09-15 08:40:00')]"
   ]
  },
  {
   "cell_type": "code",
   "execution_count": null,
   "metadata": {},
   "outputs": [],
   "source": []
  },
  {
   "cell_type": "code",
   "execution_count": null,
   "metadata": {},
   "outputs": [],
   "source": [
    "def plotting_thing(frame): # plotting function for the FuncAnimation package\n",
    "    ax.clear()\n",
    "    \n",
    "    df = df_shorter\n",
    "    min_val = 300 # somewhat arbitrary value should be tuned for a real situtation\n",
    "    mid_val = 650\n",
    "    \n",
    "    # We highlight the performances of the departments with colours\n",
    "    \n",
    "    n1 = df[1][frame]\n",
    "    if n1 <= min_val:\n",
    "        c1 = 'r'\n",
    "    elif n1 > min_val and n1 < mid_val:\n",
    "        c1 = 'y'\n",
    "    elif n1 >= mid_val:\n",
    "        c1 = 'g'\n",
    "    \n",
    "    n2 = df[2][frame]\n",
    "    if n2 <= min_val:\n",
    "        c2 = 'r'\n",
    "    elif n2 > min_val and n2 < mid_val:\n",
    "        c2 = 'y'\n",
    "    elif n2 >= mid_val:\n",
    "        c2 = 'g'\n",
    "        \n",
    "    n3 = df[3][frame]    \n",
    "    if n3 <= min_val:\n",
    "        c3 = 'r'\n",
    "    elif n3 > min_val and n3 < mid_val:\n",
    "        c3 = 'y'\n",
    "    elif n3 >= mid_val:\n",
    "        c3 = 'g'\n",
    "        \n",
    "    plt.axis('off')\n",
    "    ax.imshow(img)\n",
    "    ax.add_patch(Rectangle((333, 2625), 1284, -1237, fill = True, lw = 1.5, alpha=0.5, fc=c1))\n",
    "    ax.add_patch(Rectangle((1617, 2625), 948, -1237, fill = True, lw = 1.5, alpha=0.5, fc=c2))\n",
    "    ax.add_patch(Rectangle((2565, 2625), 1120, -1237, fill = True, lw = 1.5, alpha=0.5, fc=c3))\n"
   ]
  },
  {
   "cell_type": "code",
   "execution_count": null,
   "metadata": {},
   "outputs": [],
   "source": [
    "fig = plt.figure(figsize=(8, 6), dpi=100)\n",
    "ax = fig.add_subplot(111)\n",
    "\n",
    "anim = FuncAnimation(fig, plotting_thing, frames=19, interval=500) # animation \n",
    "#anim.save('faszfos.mp4', fps=2, extra_args=['-vcodec', 'libx264'])\n",
    "'''\n",
    "video = anim.to_html5_video()\n",
    "html = display.HTML(video)\n",
    "display.display(html)\n",
    "plt.close()\n",
    "'''"
   ]
  },
  {
   "cell_type": "code",
   "execution_count": null,
   "metadata": {},
   "outputs": [],
   "source": [
    "# just for easier handling\n",
    "df = df_events_day"
   ]
  },
  {
   "cell_type": "code",
   "execution_count": null,
   "metadata": {},
   "outputs": [],
   "source": [
    "df.iloc[:, 0:] = df.iloc[:, 0:].cumsum() # creating a cummulative sum in time"
   ]
  },
  {
   "cell_type": "code",
   "execution_count": null,
   "metadata": {},
   "outputs": [],
   "source": [
    "df = df.rename(columns = {1: 'Department 1', 2: 'Department 2', 3: 'Department 3'}) # just for looks\n",
    "df"
   ]
  },
  {
   "cell_type": "code",
   "execution_count": null,
   "metadata": {},
   "outputs": [],
   "source": [
    "df = df.loc[(df.index > '2021-09-15 05:20:00') & (df.index < '2021-09-15 08:40:00')]"
   ]
  },
  {
   "cell_type": "code",
   "execution_count": null,
   "metadata": {},
   "outputs": [],
   "source": [
    "M = df.max().max() #some normalization so that we have at max 1000 movement points in the game\n",
    "\n",
    "df = df/(M*0.001)\n",
    "df"
   ]
  },
  {
   "cell_type": "code",
   "execution_count": null,
   "metadata": {},
   "outputs": [],
   "source": [
    "#https://pypi.org/project/bar-chart-race/\n",
    "bcr.bar_chart_race(df = df, n_bars = 3, sort='desc',title='COMPETITION',filename = 'compete.mp4')"
   ]
  }
 ],
 "metadata": {
  "kernelspec": {
   "display_name": "Python 3",
   "language": "python",
   "name": "python3"
  },
  "language_info": {
   "codemirror_mode": {
    "name": "ipython",
    "version": 3
   },
   "file_extension": ".py",
   "mimetype": "text/x-python",
   "name": "python",
   "nbconvert_exporter": "python",
   "pygments_lexer": "ipython3",
   "version": "3.7.1"
  }
 },
 "nbformat": 4,
 "nbformat_minor": 2
}
